{
 "cells": [
  {
   "cell_type": "markdown",
   "metadata": {},
   "source": [
    "**Find Cost of Tile to cover W x H Floor**"
   ]
  },
  {
   "cell_type": "code",
   "execution_count": 3,
   "metadata": {},
   "outputs": [
    {
     "name": "stdout",
     "output_type": "stream",
     "text": [
      "Please state the width(cm) for each tile : 30\n",
      "Please state the length(cm) for each tile : 30\n",
      "Please state the price(RM) for each tile : 5\n",
      "\n",
      "\n",
      "TILES INFORMATION\n",
      "The tile width is 30cm\n",
      "The tile length is 30cm\n",
      "The size for each tiles are 900cm^2\n",
      "The cost for each tile is RM5\n",
      "\n",
      "\n",
      "Please state the floor area need to be covered (in m^2): 9\n",
      "\n",
      "\n",
      "ROOM INFO\n",
      "The floor area needed to be covered is 9m^2\n",
      "\n",
      "\n",
      "TOTAL COST\n",
      "Total cost of the renovation would approximately be: RM500.0\n"
     ]
    }
   ],
   "source": [
    "#tile width\n",
    "while True:\n",
    "    try:\n",
    "        tile_width = int(float(input(\"Please state the width(cm) for each tile : \")))\n",
    "        break\n",
    "    except:\n",
    "        print('That doesnt seem to be a valid number, try again')\n",
    "\n",
    "#tile length\n",
    "while True:\n",
    "    try:\n",
    "        tile_length = int(float(input(\"Please state the length(cm) for each tile : \")))\n",
    "        break\n",
    "    except:\n",
    "        print('That doesnt seem to be a valid number, try again')\n",
    "\n",
    "#tile price\n",
    "while True:\n",
    "    try:\n",
    "        tile_price = int(float(input(\"Please state the price(RM) for each tile : \")))\n",
    "        break\n",
    "    except:\n",
    "        print('That doesnt seem to be a valid number, try again')\n",
    "\n",
    "#tile area\n",
    "tile_size = (tile_length * tile_width)\n",
    "\n",
    "\n",
    "print('\\n')\n",
    "print('TILES INFORMATION')\n",
    "print(f'The tile width is {tile_width}cm')\n",
    "print(f'The tile length is {tile_length}cm')\n",
    "print(f\"The size for each tiles are {tile_size}cm^2\")\n",
    "print(f'The cost for each tile is RM{tile_price}')\n",
    "print('\\n')\n",
    "\n",
    "\n",
    "\n",
    "#ROOM_INFO\n",
    "\n",
    "while True:\n",
    "    try:\n",
    "        room_size = int(input(\"Please state the floor area need to be covered (in m^2): \"))\n",
    "        break\n",
    "    except:\n",
    "        print('That doesnt seem to be a valid number, try again')\n",
    "\n",
    "print('\\n')\n",
    "print ('ROOM INFO')\n",
    "print(f'The floor area needed to be covered is {room_size}m^2')\n",
    "\n",
    "\n",
    "#RENOVATION COST\n",
    "amount_tiles_required = room_size/(tile_size/10000)\n",
    "total_cost = round(amount_tiles_required*tile_price,2)\n",
    "\n",
    "print('\\n')\n",
    "print ('TOTAL COST')\n",
    "print(f'Total cost of the renovation would approximately be: RM{total_cost}')\n"
   ]
  }
 ],
 "metadata": {
  "kernelspec": {
   "display_name": "Python 3",
   "language": "python",
   "name": "python3"
  },
  "language_info": {
   "codemirror_mode": {
    "name": "ipython",
    "version": 3
   },
   "file_extension": ".py",
   "mimetype": "text/x-python",
   "name": "python",
   "nbconvert_exporter": "python",
   "pygments_lexer": "ipython3",
   "version": "3.8.5"
  }
 },
 "nbformat": 4,
 "nbformat_minor": 4
}
