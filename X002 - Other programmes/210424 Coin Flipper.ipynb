{
 "cells": [
  {
   "cell_type": "code",
   "execution_count": 17,
   "metadata": {},
   "outputs": [],
   "source": [
    "import random\n",
    "import time\n",
    "\n",
    "def coin_flipper(n):\n",
    "    result=[]\n",
    "    \n",
    "    for num in range(1,n):\n",
    "        x= random.randint(1, 2)\n",
    "        result.append(x)\n",
    "    print(result)\n",
    "        \n",
    "        \n",
    "\n",
    "    total_heads = result.count(2)\n",
    "    total_tails = result.count(1)\n",
    "    probablity_head = round(total_heads/(total_heads+total_tails),2)\n",
    "\n",
    "    print ('\\n')\n",
    "    print ('FINAL RESULTS')\n",
    "    print (f'The amount of heads are {total_heads}')\n",
    "    print (f'The amount of tails are {total_tails}')\n",
    "    print (f'The probability of returning heads are {probablity_head}')"
   ]
  },
  {
   "cell_type": "code",
   "execution_count": 18,
   "metadata": {},
   "outputs": [
    {
     "name": "stdout",
     "output_type": "stream",
     "text": [
      "[2, 2, 2, 2, 2, 1, 1, 1, 2, 2, 2, 1, 1, 1, 2, 2, 1, 2, 1, 2, 2, 2, 2, 2, 1, 2, 2, 2, 2, 2, 2, 2, 2, 1, 1, 2, 1, 1, 1, 1, 1, 1, 1, 1, 1, 1, 1, 1, 1, 1, 2, 2, 1, 1, 2, 1, 2, 1, 1, 2, 1, 1, 2, 1, 1, 2, 1, 2, 1, 1, 1, 1, 1, 1, 2, 1, 2, 2, 1, 2, 2, 1, 1, 2, 2, 2, 2, 1, 2, 1, 1, 2, 2, 2, 1, 1, 2, 1, 2]\n",
      "\n",
      "\n",
      "FINAL RESULTS\n",
      "The amount of heads are 48\n",
      "The amount of tails are 51\n",
      "The probability of returning heads are 0.48\n"
     ]
    }
   ],
   "source": [
    "coin_flipper(100)"
   ]
  },
  {
   "cell_type": "code",
   "execution_count": null,
   "metadata": {},
   "outputs": [],
   "source": []
  },
  {
   "cell_type": "code",
   "execution_count": null,
   "metadata": {},
   "outputs": [],
   "source": []
  },
  {
   "cell_type": "code",
   "execution_count": null,
   "metadata": {},
   "outputs": [],
   "source": []
  },
  {
   "cell_type": "markdown",
   "metadata": {},
   "source": [
    "if new_game[0].lower()=='y':\n",
    "        playing=True\n",
    "        continue\n",
    "    else:\n",
    "        print(\"Thanks for playing!\")\n",
    "        break\n",
    "        \n",
    "           while game_on = True"
   ]
  },
  {
   "cell_type": "code",
   "execution_count": 16,
   "metadata": {},
   "outputs": [
    {
     "name": "stdout",
     "output_type": "stream",
     "text": [
      "Welcome to Coin Flipper Simulation!\n",
      "[2, 1, 2, 1, 1, 2, 1, 1, 2, 2, 2, 2, 1, 2, 2, 1, 1, 1, 2]\n",
      "\n",
      "\n",
      "FINAL RESULTS\n",
      "The amount of heads are 10\n",
      "The amount of tails are 9\n",
      "The probability of returning heads are 0.53\n"
     ]
    }
   ],
   "source": [
    "coin_flipper(20)"
   ]
  },
  {
   "cell_type": "code",
   "execution_count": null,
   "metadata": {},
   "outputs": [],
   "source": []
  },
  {
   "cell_type": "code",
   "execution_count": null,
   "metadata": {},
   "outputs": [],
   "source": []
  },
  {
   "cell_type": "code",
   "execution_count": null,
   "metadata": {},
   "outputs": [],
   "source": []
  },
  {
   "cell_type": "code",
   "execution_count": 73,
   "metadata": {},
   "outputs": [
    {
     "data": {
      "text/plain": [
       "[1, 1, 1, 1, 2, 2, 1, 2, 2]"
      ]
     },
     "execution_count": 73,
     "metadata": {},
     "output_type": "execute_result"
    }
   ],
   "source": [
    "test_result=[]\n",
    "\n",
    "for num in range(1,10):\n",
    "        x= random.randint(1, 2)\n",
    "        test_result.append(x)\n",
    "        \n",
    "test_result"
   ]
  },
  {
   "cell_type": "code",
   "execution_count": 79,
   "metadata": {},
   "outputs": [
    {
     "name": "stdout",
     "output_type": "stream",
     "text": [
      "FINAL RESULTS\n",
      "The amount of heads are 4\n",
      "The amount of tails are 5\n",
      "The probability of returning heads are 0.44\n"
     ]
    }
   ],
   "source": [
    "total_heads = test_result.count(2)\n",
    "total_tails = test_result.count(1)\n",
    "probablity_head = round(total_heads/(total_heads+total_tails),2)\n",
    "\n",
    "print ('FINAL RESULTS')\n",
    "print (f'The amount of heads are {total_heads}')\n",
    "print (f'The amount of tails are {total_tails}')\n",
    "print (f'The probability of returning heads are {probablity_head}')"
   ]
  },
  {
   "cell_type": "code",
   "execution_count": null,
   "metadata": {},
   "outputs": [],
   "source": []
  }
 ],
 "metadata": {
  "kernelspec": {
   "display_name": "Python 3",
   "language": "python",
   "name": "python3"
  },
  "language_info": {
   "codemirror_mode": {
    "name": "ipython",
    "version": 3
   },
   "file_extension": ".py",
   "mimetype": "text/x-python",
   "name": "python",
   "nbconvert_exporter": "python",
   "pygments_lexer": "ipython3",
   "version": "3.8.5"
  }
 },
 "nbformat": 4,
 "nbformat_minor": 4
}
