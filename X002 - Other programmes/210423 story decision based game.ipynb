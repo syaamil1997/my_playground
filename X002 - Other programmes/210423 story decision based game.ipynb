{
 "cells": [
  {
   "cell_type": "markdown",
   "metadata": {},
   "source": [
    "#print a function that\n",
    "- accepts a name\n",
    "- print out the name"
   ]
  },
  {
   "cell_type": "code",
   "execution_count": 42,
   "metadata": {},
   "outputs": [],
   "source": []
  },
  {
   "cell_type": "code",
   "execution_count": 1,
   "metadata": {},
   "outputs": [],
   "source": [
    "import time\n",
    "\n",
    "\n",
    "\n",
    "def greeting():\n",
    "    \n",
    "    print('Stranger: Hey, you seemed to be new to here.')\n",
    "    time.sleep(0.2)\n",
    "    \n",
    "    name = str(input( 'Stranger: Whats your name? :').capitalize())\n",
    "    global username\n",
    "    username = name\n",
    "    \n",
    "    print ('Stranger: Hello {}!'.format(username))"
   ]
  },
  {
   "cell_type": "code",
   "execution_count": 12,
   "metadata": {},
   "outputs": [],
   "source": [
    "def brian_friend_req():\n",
    "    \n",
    "    print(\"Stranger: You can call me Brian..\")\n",
    "    print('\\n')\n",
    "    print('Brian: Wanna be friends,{}?'.format(username))\n",
    "    time.sleep(0.5)\n",
    "    \n",
    "    status = input('Accept friend request? Type y or n')\n",
    "    \n",
    "    if status.lower() == 'y':\n",
    "        print(\"Brian: Great! I just got a buddy on my first day!\")\n",
    "        time.sleep(0.1)\n",
    "        print(\"Brian will remember that...\")\n",
    "        \n",
    "        global friends\n",
    "        new_friend = friends.append('Brian')\n",
    "        friends = new_friend\n",
    "        \n",
    "        \n",
    "    else:\n",
    "        print(\"Brian: Owh... Um.. Okay. You're one tough person, arent ya {}?\".format(username))"
   ]
  },
  {
   "cell_type": "code",
   "execution_count": 3,
   "metadata": {},
   "outputs": [],
   "source": [
    "def are_you_free_now():\n",
    "    \n",
    "    print('Brian: Are you not doing anything at the moment?')\n",
    "    \n",
    "    free_status = input('y or n')\n",
    "    if free_status.lower() == 'y':\n",
    "        go_to_library()\n",
    "        \n",
    "    else:\n",
    "        print(\"Brian: Alright {}, see you around!\".format(username))"
   ]
  },
  {
   "cell_type": "code",
   "execution_count": 4,
   "metadata": {},
   "outputs": [],
   "source": [
    "def go_to_library():\n",
    "\n",
    "    print('Brian: So,you wanna go to the library,{}?'.format(username))\n",
    "    \n",
    "    go_to_library = input('y or n')\n",
    "    if go_to_library.lower() == 'y':\n",
    "        print(\"Brian: Cool! Let's go {}!\".format(username))"
   ]
  },
  {
   "cell_type": "code",
   "execution_count": 5,
   "metadata": {},
   "outputs": [],
   "source": [
    "def first_day_at_school():\n",
    "    \n",
    "    \n",
    "    #to store global data\n",
    "    username= 'new kid'\n",
    "    friends = []\n",
    "    \n",
    "    \n",
    "    if 'new kid' in username :\n",
    "        greeting()\n",
    "        \n",
    "    \n",
    "    time.sleep(0.1)\n",
    "    if not 'Brian' in friends:\n",
    "        brian_friend_req()\n",
    "    \n",
    "    \n",
    "    time.sleep(0.1)\n",
    "    are_you_free_now()\n",
    "        \n",
    "    time.sleep(0.1)\n",
    "    if 'Brian' in friends:\n",
    "        go_to_library()"
   ]
  },
  {
   "cell_type": "code",
   "execution_count": 13,
   "metadata": {},
   "outputs": [
    {
     "name": "stdout",
     "output_type": "stream",
     "text": [
      "Stranger: Hey, you seemed to be new to here.\n",
      "Stranger: Whats your name? :smal\n",
      "Stranger: Hello Smal!\n",
      "Stranger: You can call me Brian..\n",
      "\n",
      "\n",
      "Brian: Wanna be friends,Smal?\n",
      "Accept friend request? Type y or ny\n",
      "Brian: Great! I just got a buddy on my first day!\n",
      "Brian will remember that...\n"
     ]
    },
    {
     "ename": "NameError",
     "evalue": "name 'friends' is not defined",
     "output_type": "error",
     "traceback": [
      "\u001b[1;31m---------------------------------------------------------------------------\u001b[0m",
      "\u001b[1;31mNameError\u001b[0m                                 Traceback (most recent call last)",
      "\u001b[1;32m<ipython-input-13-341db2c8ac0b>\u001b[0m in \u001b[0;36m<module>\u001b[1;34m\u001b[0m\n\u001b[1;32m----> 1\u001b[1;33m \u001b[0mfirst_day_at_school\u001b[0m\u001b[1;33m(\u001b[0m\u001b[1;33m)\u001b[0m\u001b[1;33m\u001b[0m\u001b[1;33m\u001b[0m\u001b[0m\n\u001b[0m",
      "\u001b[1;32m<ipython-input-5-31b7eac8ef1b>\u001b[0m in \u001b[0;36mfirst_day_at_school\u001b[1;34m()\u001b[0m\n\u001b[0;32m     13\u001b[0m     \u001b[0mtime\u001b[0m\u001b[1;33m.\u001b[0m\u001b[0msleep\u001b[0m\u001b[1;33m(\u001b[0m\u001b[1;36m0.1\u001b[0m\u001b[1;33m)\u001b[0m\u001b[1;33m\u001b[0m\u001b[1;33m\u001b[0m\u001b[0m\n\u001b[0;32m     14\u001b[0m     \u001b[1;32mif\u001b[0m \u001b[1;32mnot\u001b[0m \u001b[1;34m'Brian'\u001b[0m \u001b[1;32min\u001b[0m \u001b[0mfriends\u001b[0m\u001b[1;33m:\u001b[0m\u001b[1;33m\u001b[0m\u001b[1;33m\u001b[0m\u001b[0m\n\u001b[1;32m---> 15\u001b[1;33m         \u001b[0mbrian_friend_req\u001b[0m\u001b[1;33m(\u001b[0m\u001b[1;33m)\u001b[0m\u001b[1;33m\u001b[0m\u001b[1;33m\u001b[0m\u001b[0m\n\u001b[0m\u001b[0;32m     16\u001b[0m \u001b[1;33m\u001b[0m\u001b[0m\n\u001b[0;32m     17\u001b[0m \u001b[1;33m\u001b[0m\u001b[0m\n",
      "\u001b[1;32m<ipython-input-12-bddf964bed7b>\u001b[0m in \u001b[0;36mbrian_friend_req\u001b[1;34m()\u001b[0m\n\u001b[0;32m     14\u001b[0m \u001b[1;33m\u001b[0m\u001b[0m\n\u001b[0;32m     15\u001b[0m         \u001b[1;32mglobal\u001b[0m \u001b[0mfriends\u001b[0m\u001b[1;33m\u001b[0m\u001b[1;33m\u001b[0m\u001b[0m\n\u001b[1;32m---> 16\u001b[1;33m         \u001b[0mnew_friend\u001b[0m \u001b[1;33m=\u001b[0m \u001b[0mfriends\u001b[0m\u001b[1;33m.\u001b[0m\u001b[0mappend\u001b[0m\u001b[1;33m(\u001b[0m\u001b[1;34m'Brian'\u001b[0m\u001b[1;33m)\u001b[0m\u001b[1;33m\u001b[0m\u001b[1;33m\u001b[0m\u001b[0m\n\u001b[0m\u001b[0;32m     17\u001b[0m         \u001b[0mfriends\u001b[0m \u001b[1;33m=\u001b[0m \u001b[0mnew_friend\u001b[0m\u001b[1;33m\u001b[0m\u001b[1;33m\u001b[0m\u001b[0m\n\u001b[0;32m     18\u001b[0m \u001b[1;33m\u001b[0m\u001b[0m\n",
      "\u001b[1;31mNameError\u001b[0m: name 'friends' is not defined"
     ]
    }
   ],
   "source": [
    "first_day_at_school()"
   ]
  },
  {
   "cell_type": "markdown",
   "metadata": {},
   "source": []
  },
  {
   "cell_type": "code",
   "execution_count": null,
   "metadata": {},
   "outputs": [],
   "source": []
  }
 ],
 "metadata": {
  "kernelspec": {
   "display_name": "Python 3",
   "language": "python",
   "name": "python3"
  },
  "language_info": {
   "codemirror_mode": {
    "name": "ipython",
    "version": 3
   },
   "file_extension": ".py",
   "mimetype": "text/x-python",
   "name": "python",
   "nbconvert_exporter": "python",
   "pygments_lexer": "ipython3",
   "version": "3.8.5"
  }
 },
 "nbformat": 4,
 "nbformat_minor": 4
}
