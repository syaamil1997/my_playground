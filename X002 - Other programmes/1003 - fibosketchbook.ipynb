{
 "cells": [
  {
   "cell_type": "code",
   "execution_count": 10,
   "metadata": {},
   "outputs": [
    {
     "name": "stdout",
     "output_type": "stream",
     "text": [
      "How many terms? as\n"
     ]
    },
    {
     "ename": "ValueError",
     "evalue": "invalid literal for int() with base 10: 'as'",
     "output_type": "error",
     "traceback": [
      "\u001b[1;31m---------------------------------------------------------------------------\u001b[0m",
      "\u001b[1;31mValueError\u001b[0m                                Traceback (most recent call last)",
      "\u001b[1;32m<ipython-input-10-8c5f58330295>\u001b[0m in \u001b[0;36m<module>\u001b[1;34m\u001b[0m\n\u001b[0;32m      5\u001b[0m        \u001b[1;32mreturn\u001b[0m\u001b[1;33m(\u001b[0m\u001b[0mrecur_fibo\u001b[0m\u001b[1;33m(\u001b[0m\u001b[0mn\u001b[0m\u001b[1;33m-\u001b[0m\u001b[1;36m1\u001b[0m\u001b[1;33m)\u001b[0m \u001b[1;33m+\u001b[0m \u001b[0mrecur_fibo\u001b[0m\u001b[1;33m(\u001b[0m\u001b[0mn\u001b[0m\u001b[1;33m-\u001b[0m\u001b[1;36m2\u001b[0m\u001b[1;33m)\u001b[0m\u001b[1;33m)\u001b[0m\u001b[1;33m\u001b[0m\u001b[1;33m\u001b[0m\u001b[0m\n\u001b[0;32m      6\u001b[0m \u001b[1;31m# take input from the user\u001b[0m\u001b[1;33m\u001b[0m\u001b[1;33m\u001b[0m\u001b[1;33m\u001b[0m\u001b[0m\n\u001b[1;32m----> 7\u001b[1;33m \u001b[0mnterms\u001b[0m \u001b[1;33m=\u001b[0m \u001b[0mint\u001b[0m\u001b[1;33m(\u001b[0m\u001b[0minput\u001b[0m\u001b[1;33m(\u001b[0m\u001b[1;34m\"How many terms? \"\u001b[0m\u001b[1;33m)\u001b[0m\u001b[1;33m)\u001b[0m\u001b[1;33m\u001b[0m\u001b[1;33m\u001b[0m\u001b[0m\n\u001b[0m\u001b[0;32m      8\u001b[0m \u001b[1;31m# check if the number of terms is valid\u001b[0m\u001b[1;33m\u001b[0m\u001b[1;33m\u001b[0m\u001b[1;33m\u001b[0m\u001b[0m\n\u001b[0;32m      9\u001b[0m \u001b[1;32mif\u001b[0m \u001b[0mnterms\u001b[0m \u001b[1;33m<=\u001b[0m \u001b[1;36m0\u001b[0m\u001b[1;33m:\u001b[0m\u001b[1;33m\u001b[0m\u001b[1;33m\u001b[0m\u001b[0m\n",
      "\u001b[1;31mValueError\u001b[0m: invalid literal for int() with base 10: 'as'"
     ]
    }
   ],
   "source": [
    "def recur_fibo(n):  \n",
    "   if n <= 1:  \n",
    "       return (n)  \n",
    "   else:  \n",
    "       return(recur_fibo(n-1) + recur_fibo(n-2))  \n",
    "# take input from the user  \n",
    "nterms = int(input(\"How many terms? \"))  \n",
    "# check if the number of terms is valid  \n",
    "if nterms <= 0:  \n",
    "   print(\"Plese enter a positive integer\")  \n",
    "else:  \n",
    "   print(\"Fibonacci sequence:\")  \n",
    "   for i in range(nterms):  \n",
    "       print(recur_fibo(i)) "
   ]
  },
  {
   "cell_type": "code",
   "execution_count": 1,
   "metadata": {},
   "outputs": [],
   "source": [
    "def my_func() :\n",
    "    \n",
    "    print(\"Hello, this is the fibonaci sequence-inator!\")\n",
    "    print('\\n')\n",
    "    print(\"I will list down for you fibo based on the amount you want.\")\n",
    "\n",
    "    while True:\n",
    "        try:\n",
    "            def recur_fibo(n):  \n",
    "                if n <= 1:  \n",
    "                    return (n)  \n",
    "                else:  \n",
    "                    return(recur_fibo(n-1) + recur_fibo(n-2))  \n",
    "            # take input from the user  \n",
    "            nterms = int(input(\"So brotha,how many terms do you need? : \"))  \n",
    "            # check if the number of terms is valid\n",
    "            \n",
    "            \n",
    "            if nterms <= 0:  \n",
    "                print(\"Plese enter a positive integer\")  \n",
    "            else:  \n",
    "                print(\"Fibonacci sequence:\")  \n",
    "                for i in range(nterms):  \n",
    "                       print(recur_fibo(i))\n",
    "            break\n",
    "            \n",
    "        except:\n",
    "            e = 0\n",
    "           \n",
    "            \n",
    "            if e <2:\n",
    "                print('Dude, thats not a number')\n",
    "                e += 1\n",
    "            \n",
    "            else:\n",
    "                print('We wont go anywhere as long as you dont enter a positive integer...')\n",
    "\n",
    "    \n",
    "    #once break\n",
    "    print ('My job here is done. Thanks for using me!')"
   ]
  },
  {
   "cell_type": "code",
   "execution_count": 2,
   "metadata": {},
   "outputs": [
    {
     "name": "stdout",
     "output_type": "stream",
     "text": [
      "Hello, this is the fibonaci sequence-inator!\n",
      "\n",
      "\n",
      "I will list down for you fibo based on the amount you want.\n",
      "So brotha,how many terms do you need? : h\n",
      "Dude, thats not a number\n",
      "So brotha,how many terms do you need? : dsf\n",
      "Dude, thats not a number\n",
      "So brotha,how many terms do you need? : fdv\n",
      "Dude, thats not a number\n",
      "So brotha,how many terms do you need? : sadf\n",
      "Dude, thats not a number\n",
      "So brotha,how many terms do you need? : sdf\n",
      "Dude, thats not a number\n",
      "So brotha,how many terms do you need? : sdf\n",
      "Dude, thats not a number\n",
      "So brotha,how many terms do you need? : sdf\n",
      "Dude, thats not a number\n",
      "So brotha,how many terms do you need? : sdf\n",
      "Dude, thats not a number\n",
      "So brotha,how many terms do you need? : 4\n",
      "Fibonacci sequence:\n",
      "0\n",
      "1\n",
      "1\n",
      "2\n",
      "My job here is done. Thanks for using me!\n"
     ]
    }
   ],
   "source": [
    "my_func()"
   ]
  },
  {
   "cell_type": "code",
   "execution_count": null,
   "metadata": {},
   "outputs": [],
   "source": []
  },
  {
   "cell_type": "code",
   "execution_count": null,
   "metadata": {},
   "outputs": [],
   "source": []
  },
  {
   "cell_type": "code",
   "execution_count": null,
   "metadata": {},
   "outputs": [],
   "source": []
  },
  {
   "cell_type": "code",
   "execution_count": null,
   "metadata": {},
   "outputs": [],
   "source": []
  },
  {
   "cell_type": "code",
   "execution_count": 28,
   "metadata": {},
   "outputs": [],
   "source": [
    "#my own version!\n",
    "\n",
    "def my_func() :\n",
    "    \n",
    "    print(\"Hello, this is the fibonaci sequence-inator!\")\n",
    "    print('\\n')\n",
    "    print(\"I will list down for you fibo based on the amount you want.\")\n",
    "\n",
    "    while True:\n",
    "        try:\n",
    "            def recur_fibo(n):  \n",
    "                if n <= 1:  \n",
    "                    return (n)  \n",
    "                else:  \n",
    "                    return(recur_fibo(n-1) + recur_fibo(n-2))  \n",
    "            # take input from the user  \n",
    "                nterms = int(input(\"So brotha,how many terms do you need? : \"))  \n",
    "            # check if the number of terms is valid\n",
    "            \n",
    "            \n",
    "            if nterms <= 0:\n",
    "                print(\"Plese enter a positive integer\")  \n",
    "            else:\n",
    "                print(\"Fibonacci sequence:\")  \n",
    "                for i in range(nterms):  \n",
    "                    print(recur_fibo(i))\n",
    "            break\n",
    "            \n",
    "        except:\n",
    "            \n",
    "            e = 0\n",
    "            while e==0:\n",
    "                if e<= 0:\n",
    "                    print('Dude, thats not a number')\n",
    "                    e = e + 1\n",
    "\n",
    "                if e==1:\n",
    "                    print('Bro, are you seriously trying me?')\n",
    "                    e = e + 1\n",
    "\n",
    "                else:\n",
    "                    print('Just enter a freaking number,man!')\n",
    "                    break\n",
    "    \n",
    "    #once break\n",
    "    print ('My job here is done. Thanks for using me!')\n",
    "            "
   ]
  },
  {
   "cell_type": "code",
   "execution_count": null,
   "metadata": {},
   "outputs": [
    {
     "name": "stdout",
     "output_type": "stream",
     "text": [
      "Hello, this is the fibonaci sequence-inator!\n",
      "\n",
      "\n",
      "I will list down for you fibo based on the amount you want.\n",
      "So brotha,how many terms do you need? : asdf\n",
      "Dude, thats not a number\n"
     ]
    }
   ],
   "source": [
    "my_func()"
   ]
  },
  {
   "cell_type": "code",
   "execution_count": null,
   "metadata": {},
   "outputs": [],
   "source": []
  },
  {
   "cell_type": "code",
   "execution_count": null,
   "metadata": {},
   "outputs": [],
   "source": []
  },
  {
   "cell_type": "code",
   "execution_count": null,
   "metadata": {},
   "outputs": [],
   "source": []
  },
  {
   "cell_type": "code",
   "execution_count": null,
   "metadata": {},
   "outputs": [],
   "source": []
  },
  {
   "cell_type": "code",
   "execution_count": null,
   "metadata": {},
   "outputs": [],
   "source": []
  },
  {
   "cell_type": "code",
   "execution_count": 7,
   "metadata": {},
   "outputs": [],
   "source": [
    "def recur_fibo(n):  \n",
    "   if n <= 1:  \n",
    "       return (n)  \n",
    "   else:  \n",
    "       return(recur_fibo(n-1) + recur_fibo(n-2))  "
   ]
  },
  {
   "cell_type": "code",
   "execution_count": 8,
   "metadata": {},
   "outputs": [
    {
     "data": {
      "text/plain": [
       "55"
      ]
     },
     "execution_count": 8,
     "metadata": {},
     "output_type": "execute_result"
    }
   ],
   "source": [
    "recur_fibo(10)"
   ]
  },
  {
   "cell_type": "code",
   "execution_count": 9,
   "metadata": {},
   "outputs": [
    {
     "name": "stdout",
     "output_type": "stream",
     "text": [
      "Type something heretest\n"
     ]
    },
    {
     "ename": "ValueError",
     "evalue": "invalid literal for int() with base 10: 'test'",
     "output_type": "error",
     "traceback": [
      "\u001b[1;31m---------------------------------------------------------------------------\u001b[0m",
      "\u001b[1;31mValueError\u001b[0m                                Traceback (most recent call last)",
      "\u001b[1;32m<ipython-input-9-06eb594cf82d>\u001b[0m in \u001b[0;36m<module>\u001b[1;34m\u001b[0m\n\u001b[1;32m----> 1\u001b[1;33m \u001b[0mnx\u001b[0m \u001b[1;33m=\u001b[0m \u001b[0mint\u001b[0m\u001b[1;33m(\u001b[0m\u001b[0minput\u001b[0m\u001b[1;33m(\u001b[0m\u001b[1;34m\"Type something here\"\u001b[0m\u001b[1;33m)\u001b[0m\u001b[1;33m)\u001b[0m\u001b[1;33m\u001b[0m\u001b[1;33m\u001b[0m\u001b[0m\n\u001b[0m\u001b[0;32m      2\u001b[0m \u001b[1;33m\u001b[0m\u001b[0m\n\u001b[0;32m      3\u001b[0m \u001b[1;32mif\u001b[0m \u001b[0mnx\u001b[0m \u001b[1;33m<=\u001b[0m \u001b[1;36m0\u001b[0m\u001b[1;33m:\u001b[0m\u001b[1;33m\u001b[0m\u001b[1;33m\u001b[0m\u001b[0m\n\u001b[0;32m      4\u001b[0m     \u001b[0mprint\u001b[0m \u001b[1;33m(\u001b[0m\u001b[1;34m\"please provide a positive integer\"\u001b[0m\u001b[1;33m)\u001b[0m\u001b[1;33m\u001b[0m\u001b[1;33m\u001b[0m\u001b[0m\n\u001b[0;32m      5\u001b[0m \u001b[1;33m\u001b[0m\u001b[0m\n",
      "\u001b[1;31mValueError\u001b[0m: invalid literal for int() with base 10: 'test'"
     ]
    }
   ],
   "source": [
    "nx = int(input(\"Type something here\"))\n",
    "\n",
    "if nx <= 0:\n",
    "    print (\"please provide a positive integer\")\n",
    "    \n",
    "else:\n",
    "    print(\"congrats, heres your stuffs:\")\n",
    "    for i in range(nx):\n",
    "        print(func(nx))\n",
    "    "
   ]
  },
  {
   "cell_type": "code",
   "execution_count": null,
   "metadata": {},
   "outputs": [],
   "source": []
  }
 ],
 "metadata": {
  "kernelspec": {
   "display_name": "Python 3",
   "language": "python",
   "name": "python3"
  },
  "language_info": {
   "codemirror_mode": {
    "name": "ipython",
    "version": 3
   },
   "file_extension": ".py",
   "mimetype": "text/x-python",
   "name": "python",
   "nbconvert_exporter": "python",
   "pygments_lexer": "ipython3",
   "version": "3.8.5"
  }
 },
 "nbformat": 4,
 "nbformat_minor": 4
}
