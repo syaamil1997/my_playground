{
 "cells": [
  {
   "cell_type": "code",
   "execution_count": 3,
   "metadata": {},
   "outputs": [
    {
     "ename": "SyntaxError",
     "evalue": "invalid syntax (<ipython-input-3-84b8dae6a97e>, line 17)",
     "output_type": "error",
     "traceback": [
      "\u001b[1;36m  File \u001b[1;32m\"<ipython-input-3-84b8dae6a97e>\"\u001b[1;36m, line \u001b[1;32m17\u001b[0m\n\u001b[1;33m    print CalculatePi(roundint);\u001b[0m\n\u001b[1;37m          ^\u001b[0m\n\u001b[1;31mSyntaxError\u001b[0m\u001b[1;31m:\u001b[0m invalid syntax\n"
     ]
    }
   ],
   "source": [
    "import math \n",
    "\n",
    "def CalculatePi(roundVal):\n",
    "\n",
    "        somepi = round(math.pi,roundVal);\n",
    "        pi = str(somepi)\n",
    "        someList = list(pi)\n",
    "        return somepi;\n",
    "\n",
    "\n",
    "\n",
    "\n",
    "\n",
    "roundTo = raw_input('Enter the number of digits you want after the decimal for Pi: ')\n",
    "try:\n",
    "    roundint = int(roundTo);\n",
    "    print CalculatePi(roundint);\n",
    "except:\n",
    "    print \"You did not enter an integer\";"
   ]
  },
  {
   "cell_type": "code",
   "execution_count": 14,
   "metadata": {},
   "outputs": [],
   "source": [
    "import math\n",
    "\n",
    "def pi_calc():\n",
    "    print('Welcome, this is the pi calc')\n",
    "    print('\\n')\n",
    "    print('I will return pi with whatever decimal places you state') \n",
    "    \n",
    "    \n",
    "    while True:\n",
    "        try:\n",
    "            num = int(input('Please state your number:'))\n",
    "            \n",
    "            pi_output = round(math.pi,num)\n",
    "            return pi_output\n",
    "    \n",
    "            break\n",
    "\n",
    "        except:\n",
    "                print ('Please enter a positive integer')\n",
    "    \n",
    "    print('Thank you, have a nice day!')    \n",
    "\n",
    "    \n",
    "    "
   ]
  },
  {
   "cell_type": "code",
   "execution_count": 15,
   "metadata": {},
   "outputs": [
    {
     "name": "stdout",
     "output_type": "stream",
     "text": [
      "Welcome, this is the pi calc\n",
      "\n",
      "\n",
      "I will return pi with whatever decimal places you state\n",
      "Please state your number:2\n"
     ]
    },
    {
     "data": {
      "text/plain": [
       "3.14"
      ]
     },
     "execution_count": 15,
     "metadata": {},
     "output_type": "execute_result"
    }
   ],
   "source": [
    "pi_calc()"
   ]
  },
  {
   "cell_type": "code",
   "execution_count": null,
   "metadata": {},
   "outputs": [],
   "source": []
  },
  {
   "cell_type": "code",
   "execution_count": null,
   "metadata": {},
   "outputs": [],
   "source": []
  },
  {
   "cell_type": "code",
   "execution_count": null,
   "metadata": {},
   "outputs": [],
   "source": []
  },
  {
   "cell_type": "code",
   "execution_count": null,
   "metadata": {},
   "outputs": [],
   "source": []
  },
  {
   "cell_type": "code",
   "execution_count": 6,
   "metadata": {},
   "outputs": [
    {
     "data": {
      "text/plain": [
       "3.141593"
      ]
     },
     "execution_count": 6,
     "metadata": {},
     "output_type": "execute_result"
    }
   ],
   "source": [
    "CalculatePi(6)"
   ]
  },
  {
   "cell_type": "code",
   "execution_count": 1,
   "metadata": {},
   "outputs": [],
   "source": [
    "import math"
   ]
  },
  {
   "cell_type": "code",
   "execution_count": null,
   "metadata": {},
   "outputs": [],
   "source": [
    "input_num = input('Enter')"
   ]
  }
 ],
 "metadata": {
  "kernelspec": {
   "display_name": "Python 3",
   "language": "python",
   "name": "python3"
  },
  "language_info": {
   "codemirror_mode": {
    "name": "ipython",
    "version": 3
   },
   "file_extension": ".py",
   "mimetype": "text/x-python",
   "name": "python",
   "nbconvert_exporter": "python",
   "pygments_lexer": "ipython3",
   "version": "3.8.5"
  }
 },
 "nbformat": 4,
 "nbformat_minor": 4
}
