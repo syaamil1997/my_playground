{
 "cells": [
  {
   "cell_type": "markdown",
   "metadata": {},
   "source": [
    "**GEOSPATIAL ANALYSIS**"
   ]
  },
  {
   "cell_type": "code",
   "execution_count": null,
   "metadata": {},
   "outputs": [],
   "source": [
    "import pandas as pd\n",
    "import folium\n",
    "import math\n",
    "from folium.plugins import MarkerCluster,HeatMap\n",
    "import seaborn as sns\n",
    "import datetime\n",
    "import plotly.graph_objects as go\n",
    "import plotly.express as px\n",
    "from plotly.subplots import make_subplots"
   ]
  },
  {
   "cell_type": "code",
   "execution_count": null,
   "metadata": {},
   "outputs": [],
   "source": []
  },
  {
   "cell_type": "code",
   "execution_count": null,
   "metadata": {},
   "outputs": [],
   "source": []
  },
  {
   "cell_type": "code",
   "execution_count": null,
   "metadata": {},
   "outputs": [],
   "source": []
  },
  {
   "cell_type": "code",
   "execution_count": null,
   "metadata": {},
   "outputs": [],
   "source": []
  },
  {
   "cell_type": "code",
   "execution_count": null,
   "metadata": {},
   "outputs": [],
   "source": []
  },
  {
   "cell_type": "code",
   "execution_count": null,
   "metadata": {},
   "outputs": [],
   "source": []
  },
  {
   "cell_type": "code",
   "execution_count": null,
   "metadata": {},
   "outputs": [],
   "source": []
  },
  {
   "cell_type": "code",
   "execution_count": null,
   "metadata": {},
   "outputs": [],
   "source": []
  },
  {
   "cell_type": "code",
   "execution_count": null,
   "metadata": {},
   "outputs": [],
   "source": []
  },
  {
   "cell_type": "code",
   "execution_count": null,
   "metadata": {},
   "outputs": [],
   "source": []
  },
  {
   "cell_type": "markdown",
   "metadata": {},
   "source": [
    "My study here on geopanda with python is based on the link below:\n",
    "\n",
    "https://www.kaggle.com/learn/geospatial-analysis"
   ]
  },
  {
   "cell_type": "markdown",
   "metadata": {},
   "source": [
    "- assuming youve installed geopandas, enter the code below to activate the environment\n",
    "\n",
    "-- conda create -n geo_env"
   ]
  },
  {
   "cell_type": "code",
   "execution_count": 1,
   "metadata": {},
   "outputs": [],
   "source": [
    "import geopandas as gpd"
   ]
  },
  {
   "cell_type": "markdown",
   "metadata": {},
   "source": [
    "geospatial file formats such as shapefile,GeoJSON,KML,GPKG\n",
    "to read run:\n",
    "\n",
    "gpd.read_file()"
   ]
  },
  {
   "cell_type": "code",
   "execution_count": 5,
   "metadata": {},
   "outputs": [],
   "source": [
    "full_data = gpd.read_file(\"DEClands.shp\")"
   ]
  },
  {
   "cell_type": "code",
   "execution_count": 8,
   "metadata": {},
   "outputs": [
    {
     "data": {
      "text/html": [
       "<div>\n",
       "<style scoped>\n",
       "    .dataframe tbody tr th:only-of-type {\n",
       "        vertical-align: middle;\n",
       "    }\n",
       "\n",
       "    .dataframe tbody tr th {\n",
       "        vertical-align: top;\n",
       "    }\n",
       "\n",
       "    .dataframe thead th {\n",
       "        text-align: right;\n",
       "    }\n",
       "</style>\n",
       "<table border=\"1\" class=\"dataframe\">\n",
       "  <thead>\n",
       "    <tr style=\"text-align: right;\">\n",
       "      <th></th>\n",
       "      <th>OBJECTID</th>\n",
       "      <th>CATEGORY</th>\n",
       "      <th>UNIT</th>\n",
       "      <th>FACILITY</th>\n",
       "      <th>CLASS</th>\n",
       "      <th>UMP</th>\n",
       "      <th>DESCRIPTIO</th>\n",
       "      <th>REGION</th>\n",
       "      <th>COUNTY</th>\n",
       "      <th>URL</th>\n",
       "      <th>SOURCE</th>\n",
       "      <th>UPDATE_</th>\n",
       "      <th>OFFICE</th>\n",
       "      <th>ACRES</th>\n",
       "      <th>LANDS_UID</th>\n",
       "      <th>GREENCERT</th>\n",
       "      <th>UMPURL</th>\n",
       "      <th>SHAPE_AREA</th>\n",
       "      <th>SHAPE_LEN</th>\n",
       "      <th>geometry</th>\n",
       "    </tr>\n",
       "  </thead>\n",
       "  <tbody>\n",
       "    <tr>\n",
       "      <th>0</th>\n",
       "      <td>2743</td>\n",
       "      <td>FOREST PRESERVE</td>\n",
       "      <td>AFP</td>\n",
       "      <td>FULTON CHAIN WILD FOREST</td>\n",
       "      <td>WILD FOREST</td>\n",
       "      <td>FULTON CHAIN</td>\n",
       "      <td>None</td>\n",
       "      <td>6</td>\n",
       "      <td>HERKIMER</td>\n",
       "      <td>https://www.dec.ny.gov/lands/75305.html</td>\n",
       "      <td>DECRP</td>\n",
       "      <td>3/11</td>\n",
       "      <td>HERKIMER</td>\n",
       "      <td>739.361639</td>\n",
       "      <td>4239</td>\n",
       "      <td>N</td>\n",
       "      <td>http://www.dec.ny.gov/lands/51309.html</td>\n",
       "      <td>2.992090e+06</td>\n",
       "      <td>14445.172046</td>\n",
       "      <td>POLYGON ((502476.666 4842386.993, 502476.739 4...</td>\n",
       "    </tr>\n",
       "    <tr>\n",
       "      <th>1</th>\n",
       "      <td>2744</td>\n",
       "      <td>FOREST PRESERVE</td>\n",
       "      <td>AFP</td>\n",
       "      <td>FULTON CHAIN WILD FOREST</td>\n",
       "      <td>WILD FOREST</td>\n",
       "      <td>FULTON CHAIN</td>\n",
       "      <td>None</td>\n",
       "      <td>6</td>\n",
       "      <td>HERKIMER</td>\n",
       "      <td>https://www.dec.ny.gov/lands/75305.html</td>\n",
       "      <td>DECRP</td>\n",
       "      <td>11/08</td>\n",
       "      <td>HERKIMER</td>\n",
       "      <td>7.538903</td>\n",
       "      <td>3841</td>\n",
       "      <td>N</td>\n",
       "      <td>http://www.dec.ny.gov/lands/51309.html</td>\n",
       "      <td>3.050886e+04</td>\n",
       "      <td>870.836410</td>\n",
       "      <td>POLYGON ((502090.747 4840324.577, 502110.011 4...</td>\n",
       "    </tr>\n",
       "    <tr>\n",
       "      <th>2</th>\n",
       "      <td>2745</td>\n",
       "      <td>FOREST PRESERVE</td>\n",
       "      <td>AFP</td>\n",
       "      <td>INDEPENDENCE RIVER WILD FOREST</td>\n",
       "      <td>WILD FOREST</td>\n",
       "      <td>INDEPENDENCE RIVER</td>\n",
       "      <td>None</td>\n",
       "      <td>6</td>\n",
       "      <td>LEWIS</td>\n",
       "      <td>https://www.dec.ny.gov/lands/58192.html</td>\n",
       "      <td>DECRP</td>\n",
       "      <td>8/19</td>\n",
       "      <td>LOWVILLE</td>\n",
       "      <td>76519.233602</td>\n",
       "      <td>4253</td>\n",
       "      <td>N</td>\n",
       "      <td>https://www.dec.ny.gov/lands/22574.html</td>\n",
       "      <td>3.096624e+08</td>\n",
       "      <td>270633.583850</td>\n",
       "      <td>POLYGON ((508503.626 4864992.965, 509092.576 4...</td>\n",
       "    </tr>\n",
       "    <tr>\n",
       "      <th>3</th>\n",
       "      <td>2746</td>\n",
       "      <td>FOREST PRESERVE</td>\n",
       "      <td>AFP</td>\n",
       "      <td>INDEPENDENCE RIVER WILD FOREST</td>\n",
       "      <td>WILD FOREST</td>\n",
       "      <td>INDEPENDENCE RIVER</td>\n",
       "      <td>None</td>\n",
       "      <td>6</td>\n",
       "      <td>LEWIS</td>\n",
       "      <td>https://www.dec.ny.gov/lands/58192.html</td>\n",
       "      <td>DECRP</td>\n",
       "      <td>3/11</td>\n",
       "      <td>LOWVILLE</td>\n",
       "      <td>223.803334</td>\n",
       "      <td>4252</td>\n",
       "      <td>N</td>\n",
       "      <td>https://www.dec.ny.gov/lands/22574.html</td>\n",
       "      <td>9.057000e+05</td>\n",
       "      <td>5609.447134</td>\n",
       "      <td>POLYGON ((490114.810 4859403.501, 490142.561 4...</td>\n",
       "    </tr>\n",
       "    <tr>\n",
       "      <th>4</th>\n",
       "      <td>2747</td>\n",
       "      <td>FOREST PRESERVE</td>\n",
       "      <td>AFP</td>\n",
       "      <td>INDEPENDENCE RIVER WILD FOREST</td>\n",
       "      <td>WILD FOREST</td>\n",
       "      <td>INDEPENDENCE RIVER</td>\n",
       "      <td>None</td>\n",
       "      <td>6</td>\n",
       "      <td>LEWIS</td>\n",
       "      <td>https://www.dec.ny.gov/lands/58192.html</td>\n",
       "      <td>DECRP</td>\n",
       "      <td>3/11</td>\n",
       "      <td>LOWVILLE</td>\n",
       "      <td>114.466837</td>\n",
       "      <td>4019</td>\n",
       "      <td>N</td>\n",
       "      <td>https://www.dec.ny.gov/lands/22574.html</td>\n",
       "      <td>4.632309e+05</td>\n",
       "      <td>2723.724659</td>\n",
       "      <td>POLYGON ((481679.514 4853407.042, 481072.554 4...</td>\n",
       "    </tr>\n",
       "  </tbody>\n",
       "</table>\n",
       "</div>"
      ],
      "text/plain": [
       "   OBJECTID         CATEGORY UNIT                        FACILITY  \\\n",
       "0      2743  FOREST PRESERVE  AFP        FULTON CHAIN WILD FOREST   \n",
       "1      2744  FOREST PRESERVE  AFP        FULTON CHAIN WILD FOREST   \n",
       "2      2745  FOREST PRESERVE  AFP  INDEPENDENCE RIVER WILD FOREST   \n",
       "3      2746  FOREST PRESERVE  AFP  INDEPENDENCE RIVER WILD FOREST   \n",
       "4      2747  FOREST PRESERVE  AFP  INDEPENDENCE RIVER WILD FOREST   \n",
       "\n",
       "         CLASS                 UMP DESCRIPTIO  REGION    COUNTY  \\\n",
       "0  WILD FOREST        FULTON CHAIN       None       6  HERKIMER   \n",
       "1  WILD FOREST        FULTON CHAIN       None       6  HERKIMER   \n",
       "2  WILD FOREST  INDEPENDENCE RIVER       None       6     LEWIS   \n",
       "3  WILD FOREST  INDEPENDENCE RIVER       None       6     LEWIS   \n",
       "4  WILD FOREST  INDEPENDENCE RIVER       None       6     LEWIS   \n",
       "\n",
       "                                       URL SOURCE UPDATE_    OFFICE  \\\n",
       "0  https://www.dec.ny.gov/lands/75305.html  DECRP    3/11  HERKIMER   \n",
       "1  https://www.dec.ny.gov/lands/75305.html  DECRP   11/08  HERKIMER   \n",
       "2  https://www.dec.ny.gov/lands/58192.html  DECRP    8/19  LOWVILLE   \n",
       "3  https://www.dec.ny.gov/lands/58192.html  DECRP    3/11  LOWVILLE   \n",
       "4  https://www.dec.ny.gov/lands/58192.html  DECRP    3/11  LOWVILLE   \n",
       "\n",
       "          ACRES  LANDS_UID GREENCERT                                   UMPURL  \\\n",
       "0    739.361639       4239         N   http://www.dec.ny.gov/lands/51309.html   \n",
       "1      7.538903       3841         N   http://www.dec.ny.gov/lands/51309.html   \n",
       "2  76519.233602       4253         N  https://www.dec.ny.gov/lands/22574.html   \n",
       "3    223.803334       4252         N  https://www.dec.ny.gov/lands/22574.html   \n",
       "4    114.466837       4019         N  https://www.dec.ny.gov/lands/22574.html   \n",
       "\n",
       "     SHAPE_AREA      SHAPE_LEN  \\\n",
       "0  2.992090e+06   14445.172046   \n",
       "1  3.050886e+04     870.836410   \n",
       "2  3.096624e+08  270633.583850   \n",
       "3  9.057000e+05    5609.447134   \n",
       "4  4.632309e+05    2723.724659   \n",
       "\n",
       "                                            geometry  \n",
       "0  POLYGON ((502476.666 4842386.993, 502476.739 4...  \n",
       "1  POLYGON ((502090.747 4840324.577, 502110.011 4...  \n",
       "2  POLYGON ((508503.626 4864992.965, 509092.576 4...  \n",
       "3  POLYGON ((490114.810 4859403.501, 490142.561 4...  \n",
       "4  POLYGON ((481679.514 4853407.042, 481072.554 4...  "
      ]
     },
     "execution_count": 8,
     "metadata": {},
     "output_type": "execute_result"
    }
   ],
   "source": [
    "full_data.head()"
   ]
  },
  {
   "cell_type": "code",
   "execution_count": 9,
   "metadata": {},
   "outputs": [
    {
     "data": {
      "text/plain": [
       "geopandas.geodataframe.GeoDataFrame"
      ]
     },
     "execution_count": 9,
     "metadata": {},
     "output_type": "execute_result"
    }
   ],
   "source": [
    "type(full_data)"
   ]
  },
  {
   "cell_type": "code",
   "execution_count": 16,
   "metadata": {},
   "outputs": [
    {
     "data": {
      "text/html": [
       "<div>\n",
       "<style scoped>\n",
       "    .dataframe tbody tr th:only-of-type {\n",
       "        vertical-align: middle;\n",
       "    }\n",
       "\n",
       "    .dataframe tbody tr th {\n",
       "        vertical-align: top;\n",
       "    }\n",
       "\n",
       "    .dataframe thead th {\n",
       "        text-align: right;\n",
       "    }\n",
       "</style>\n",
       "<table border=\"1\" class=\"dataframe\">\n",
       "  <thead>\n",
       "    <tr style=\"text-align: right;\">\n",
       "      <th></th>\n",
       "      <th>CLASS</th>\n",
       "      <th>COUNTY</th>\n",
       "      <th>geometry</th>\n",
       "    </tr>\n",
       "  </thead>\n",
       "  <tbody>\n",
       "    <tr>\n",
       "      <th>0</th>\n",
       "      <td>WILD FOREST</td>\n",
       "      <td>HERKIMER</td>\n",
       "      <td>POLYGON ((502476.666 4842386.993, 502476.739 4...</td>\n",
       "    </tr>\n",
       "    <tr>\n",
       "      <th>1</th>\n",
       "      <td>WILD FOREST</td>\n",
       "      <td>HERKIMER</td>\n",
       "      <td>POLYGON ((502090.747 4840324.577, 502110.011 4...</td>\n",
       "    </tr>\n",
       "    <tr>\n",
       "      <th>2</th>\n",
       "      <td>WILD FOREST</td>\n",
       "      <td>LEWIS</td>\n",
       "      <td>POLYGON ((508503.626 4864992.965, 509092.576 4...</td>\n",
       "    </tr>\n",
       "    <tr>\n",
       "      <th>3</th>\n",
       "      <td>WILD FOREST</td>\n",
       "      <td>LEWIS</td>\n",
       "      <td>POLYGON ((490114.810 4859403.501, 490142.561 4...</td>\n",
       "    </tr>\n",
       "    <tr>\n",
       "      <th>4</th>\n",
       "      <td>WILD FOREST</td>\n",
       "      <td>LEWIS</td>\n",
       "      <td>POLYGON ((481679.514 4853407.042, 481072.554 4...</td>\n",
       "    </tr>\n",
       "    <tr>\n",
       "      <th>...</th>\n",
       "      <td>...</td>\n",
       "      <td>...</td>\n",
       "      <td>...</td>\n",
       "    </tr>\n",
       "    <tr>\n",
       "      <th>2999</th>\n",
       "      <td>None</td>\n",
       "      <td>ALBANY</td>\n",
       "      <td>POLYGON ((592614.788 4730677.364, 592772.235 4...</td>\n",
       "    </tr>\n",
       "    <tr>\n",
       "      <th>3000</th>\n",
       "      <td>WILD FOREST</td>\n",
       "      <td>SARATOGA</td>\n",
       "      <td>POLYGON ((585765.509 4786488.841, 585761.900 4...</td>\n",
       "    </tr>\n",
       "    <tr>\n",
       "      <th>3001</th>\n",
       "      <td>None</td>\n",
       "      <td>LEWIS</td>\n",
       "      <td>POLYGON ((470480.308 4836221.838, 470503.974 4...</td>\n",
       "    </tr>\n",
       "    <tr>\n",
       "      <th>3002</th>\n",
       "      <td>None</td>\n",
       "      <td>LEWIS</td>\n",
       "      <td>POLYGON ((456340.400 4813453.700, 455695.800 4...</td>\n",
       "    </tr>\n",
       "    <tr>\n",
       "      <th>3003</th>\n",
       "      <td>None</td>\n",
       "      <td>OSWEGO</td>\n",
       "      <td>POLYGON ((427425.836 4828336.731, 427436.210 4...</td>\n",
       "    </tr>\n",
       "  </tbody>\n",
       "</table>\n",
       "<p>3004 rows × 3 columns</p>\n",
       "</div>"
      ],
      "text/plain": [
       "            CLASS    COUNTY                                           geometry\n",
       "0     WILD FOREST  HERKIMER  POLYGON ((502476.666 4842386.993, 502476.739 4...\n",
       "1     WILD FOREST  HERKIMER  POLYGON ((502090.747 4840324.577, 502110.011 4...\n",
       "2     WILD FOREST     LEWIS  POLYGON ((508503.626 4864992.965, 509092.576 4...\n",
       "3     WILD FOREST     LEWIS  POLYGON ((490114.810 4859403.501, 490142.561 4...\n",
       "4     WILD FOREST     LEWIS  POLYGON ((481679.514 4853407.042, 481072.554 4...\n",
       "...           ...       ...                                                ...\n",
       "2999         None    ALBANY  POLYGON ((592614.788 4730677.364, 592772.235 4...\n",
       "3000  WILD FOREST  SARATOGA  POLYGON ((585765.509 4786488.841, 585761.900 4...\n",
       "3001         None     LEWIS  POLYGON ((470480.308 4836221.838, 470503.974 4...\n",
       "3002         None     LEWIS  POLYGON ((456340.400 4813453.700, 455695.800 4...\n",
       "3003         None    OSWEGO  POLYGON ((427425.836 4828336.731, 427436.210 4...\n",
       "\n",
       "[3004 rows x 3 columns]"
      ]
     },
     "execution_count": 16,
     "metadata": {},
     "output_type": "execute_result"
    }
   ],
   "source": [
    "full_data.loc[:,[\"CLASS\",\"COUNTY\",\"geometry\"]].copy()"
   ]
  },
  {
   "cell_type": "code",
   "execution_count": 22,
   "metadata": {},
   "outputs": [
    {
     "data": {
      "text/plain": [
       "<bound method DataFrame.value_counts of             CLASS    COUNTY                                           geometry\n",
       "0     WILD FOREST  HERKIMER  POLYGON ((502476.666 4842386.993, 502476.739 4...\n",
       "1     WILD FOREST  HERKIMER  POLYGON ((502090.747 4840324.577, 502110.011 4...\n",
       "2     WILD FOREST     LEWIS  POLYGON ((508503.626 4864992.965, 509092.576 4...\n",
       "3     WILD FOREST     LEWIS  POLYGON ((490114.810 4859403.501, 490142.561 4...\n",
       "4     WILD FOREST     LEWIS  POLYGON ((481679.514 4853407.042, 481072.554 4...\n",
       "...           ...       ...                                                ...\n",
       "2999         None    ALBANY  POLYGON ((592614.788 4730677.364, 592772.235 4...\n",
       "3000  WILD FOREST  SARATOGA  POLYGON ((585765.509 4786488.841, 585761.900 4...\n",
       "3001         None     LEWIS  POLYGON ((470480.308 4836221.838, 470503.974 4...\n",
       "3002         None     LEWIS  POLYGON ((456340.400 4813453.700, 455695.800 4...\n",
       "3003         None    OSWEGO  POLYGON ((427425.836 4828336.731, 427436.210 4...\n",
       "\n",
       "[3004 rows x 3 columns]>"
      ]
     },
     "execution_count": 22,
     "metadata": {},
     "output_type": "execute_result"
    }
   ],
   "source": [
    "data.value_counts"
   ]
  },
  {
   "cell_type": "code",
   "execution_count": 23,
   "metadata": {},
   "outputs": [
    {
     "data": {
      "text/plain": [
       "WILD FOREST                   963\n",
       "INTENSIVE USE                 107\n",
       "PRIMITIVE                      63\n",
       "WILDERNESS                     52\n",
       "UNCLASSIFIED                   13\n",
       "HISTORIC                        5\n",
       "PRIMITIVE BICYCLE CORRIDOR      4\n",
       "CANOE AREA                      1\n",
       "Name: CLASS, dtype: int64"
      ]
     },
     "execution_count": 23,
     "metadata": {},
     "output_type": "execute_result"
    }
   ],
   "source": [
    "data.CLASS.value_counts()"
   ]
  },
  {
   "cell_type": "code",
   "execution_count": 24,
   "metadata": {},
   "outputs": [],
   "source": [
    "wild_lands = data.loc[data.CLASS.isin(['WILD FOREST',\"WILDERNESS\"])].copy()"
   ]
  },
  {
   "cell_type": "code",
   "execution_count": 25,
   "metadata": {},
   "outputs": [
    {
     "data": {
      "text/html": [
       "<div>\n",
       "<style scoped>\n",
       "    .dataframe tbody tr th:only-of-type {\n",
       "        vertical-align: middle;\n",
       "    }\n",
       "\n",
       "    .dataframe tbody tr th {\n",
       "        vertical-align: top;\n",
       "    }\n",
       "\n",
       "    .dataframe thead th {\n",
       "        text-align: right;\n",
       "    }\n",
       "</style>\n",
       "<table border=\"1\" class=\"dataframe\">\n",
       "  <thead>\n",
       "    <tr style=\"text-align: right;\">\n",
       "      <th></th>\n",
       "      <th>CLASS</th>\n",
       "      <th>COUNTY</th>\n",
       "      <th>geometry</th>\n",
       "    </tr>\n",
       "  </thead>\n",
       "  <tbody>\n",
       "    <tr>\n",
       "      <th>0</th>\n",
       "      <td>WILD FOREST</td>\n",
       "      <td>HERKIMER</td>\n",
       "      <td>POLYGON ((502476.666 4842386.993, 502476.739 4...</td>\n",
       "    </tr>\n",
       "    <tr>\n",
       "      <th>1</th>\n",
       "      <td>WILD FOREST</td>\n",
       "      <td>HERKIMER</td>\n",
       "      <td>POLYGON ((502090.747 4840324.577, 502110.011 4...</td>\n",
       "    </tr>\n",
       "    <tr>\n",
       "      <th>2</th>\n",
       "      <td>WILD FOREST</td>\n",
       "      <td>LEWIS</td>\n",
       "      <td>POLYGON ((508503.626 4864992.965, 509092.576 4...</td>\n",
       "    </tr>\n",
       "    <tr>\n",
       "      <th>3</th>\n",
       "      <td>WILD FOREST</td>\n",
       "      <td>LEWIS</td>\n",
       "      <td>POLYGON ((490114.810 4859403.501, 490142.561 4...</td>\n",
       "    </tr>\n",
       "    <tr>\n",
       "      <th>4</th>\n",
       "      <td>WILD FOREST</td>\n",
       "      <td>LEWIS</td>\n",
       "      <td>POLYGON ((481679.514 4853407.042, 481072.554 4...</td>\n",
       "    </tr>\n",
       "  </tbody>\n",
       "</table>\n",
       "</div>"
      ],
      "text/plain": [
       "         CLASS    COUNTY                                           geometry\n",
       "0  WILD FOREST  HERKIMER  POLYGON ((502476.666 4842386.993, 502476.739 4...\n",
       "1  WILD FOREST  HERKIMER  POLYGON ((502090.747 4840324.577, 502110.011 4...\n",
       "2  WILD FOREST     LEWIS  POLYGON ((508503.626 4864992.965, 509092.576 4...\n",
       "3  WILD FOREST     LEWIS  POLYGON ((490114.810 4859403.501, 490142.561 4...\n",
       "4  WILD FOREST     LEWIS  POLYGON ((481679.514 4853407.042, 481072.554 4..."
      ]
     },
     "execution_count": 25,
     "metadata": {},
     "output_type": "execute_result"
    }
   ],
   "source": [
    "wild_lands.head()"
   ]
  },
  {
   "cell_type": "code",
   "execution_count": 29,
   "metadata": {},
   "outputs": [
    {
     "data": {
      "text/plain": [
       "0       False\n",
       "1       False\n",
       "2       False\n",
       "3       False\n",
       "4       False\n",
       "        ...  \n",
       "2999    False\n",
       "3000    False\n",
       "3001    False\n",
       "3002    False\n",
       "3003    False\n",
       "Name: CLASS, Length: 3004, dtype: bool"
      ]
     },
     "execution_count": 29,
     "metadata": {},
     "output_type": "execute_result"
    }
   ],
   "source": [
    "#my own failed method of trying to select WILD FOREST and WILDERNESS\n",
    "\n",
    "data['CLASS'] == 'WILD FOREST'\n",
    "data['CLASS'] == 'WILDERNESS'"
   ]
  },
  {
   "cell_type": "code",
   "execution_count": 39,
   "metadata": {},
   "outputs": [],
   "source": [
    "import matplotlib.pyplot as plt"
   ]
  },
  {
   "cell_type": "code",
   "execution_count": 38,
   "metadata": {},
   "outputs": [
    {
     "data": {
      "text/plain": [
       "<AxesSubplot:>"
      ]
     },
     "execution_count": 38,
     "metadata": {},
     "output_type": "execute_result"
    },
    {
     "data": {
      "text/plain": [
       "<Figure size 864x576 with 0 Axes>"
      ]
     },
     "metadata": {},
     "output_type": "display_data"
    },
    {
     "data": {
      "image/png": "[encoded data removed]",
      "text/plain": [
       "<Figure size 432x288 with 1 Axes>"
      ]
     },
     "metadata": {
      "needs_background": "light"
     },
     "output_type": "display_data"
    }
   ],
   "source": [
    "plt.figure(figsize=(12,8))\n",
    "wild_lands.plot()"
   ]
  },
  {
   "cell_type": "code",
   "execution_count": 40,
   "metadata": {},
   "outputs": [
    {
     "data": {
      "text/plain": [
       "0    POLYGON ((502476.666 4842386.993, 502476.739 4...\n",
       "1    POLYGON ((502090.747 4840324.577, 502110.011 4...\n",
       "2    POLYGON ((508503.626 4864992.965, 509092.576 4...\n",
       "3    POLYGON ((490114.810 4859403.501, 490142.561 4...\n",
       "4    POLYGON ((481679.514 4853407.042, 481072.554 4...\n",
       "Name: geometry, dtype: geometry"
      ]
     },
     "execution_count": 40,
     "metadata": {},
     "output_type": "execute_result"
    }
   ],
   "source": [
    "#GEOMETRY COLUMN\n",
    "wild_lands.geometry.head()"
   ]
  },
  {
   "cell_type": "markdown",
   "metadata": {},
   "source": [
    "identify POINT, LINESTRING and POLYGON"
   ]
  },
  {
   "cell_type": "code",
   "execution_count": null,
   "metadata": {},
   "outputs": [],
   "source": [
    "POI_data = gdp.read_file(\"...shp\")\n",
    "campsites = POI_data.loc[POI_data.ASSET=='PRIMITIVE CAMPSITE'].copy()\n",
    "\n",
    "roads_trail = gpd.read_file(..shp)\n",
    "trails = roas_trail.loc[roads_trails.ASSET=='FOOT TRAIL'].copy()\n",
    "\n",
    "countries = gpd.read_file(..shp)"
   ]
  },
  {
   "cell_type": "code",
   "execution_count": null,
   "metadata": {},
   "outputs": [],
   "source": []
  }
 ],
 "metadata": {
  "kernelspec": {
   "display_name": "Python 3",
   "language": "python",
   "name": "python3"
  },
  "language_info": {
   "codemirror_mode": {
    "name": "ipython",
    "version": 3
   },
   "file_extension": ".py",
   "mimetype": "text/x-python",
   "name": "python",
   "nbconvert_exporter": "python",
   "pygments_lexer": "ipython3",
   "version": "3.9.2"
  }
 },
 "nbformat": 4,
 "nbformat_minor": 4
}
