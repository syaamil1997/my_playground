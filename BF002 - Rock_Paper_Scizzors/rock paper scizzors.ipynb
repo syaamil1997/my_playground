{
 "cells": [
  {
   "cell_type": "markdown",
   "metadata": {},
   "source": [
    "**Rock Paper Scizzors**"
   ]
  },
  {
   "cell_type": "markdown",
   "metadata": {},
   "source": [
    "This is attempt of making rock paper scizzors game"
   ]
  },
  {
   "cell_type": "markdown",
   "metadata": {},
   "source": [
    "- ask player for username\n",
    "- ask player how many rounds\n",
    "- player pick "
   ]
  },
  {
   "cell_type": "markdown",
   "metadata": {},
   "source": [
    "Possible combos\n",
    "- r p\n",
    "- r s\n",
    "- r r\n",
    "\n",
    "- p r\n",
    "- p s\n",
    "- p p\n",
    "\n",
    "- s p\n",
    "- s s\n",
    "- s r"
   ]
  },
  {
   "cell_type": "code",
   "execution_count": 1,
   "metadata": {},
   "outputs": [],
   "source": [
    "import random"
   ]
  },
  {
   "cell_type": "code",
   "execution_count": 11,
   "metadata": {},
   "outputs": [],
   "source": [
    "def cpu_func():\n",
    "    computer_random = random.randint(1,3)\n",
    "    if computer_random == 1:\n",
    "        computer_choice = 'r'\n",
    "        print(\"Computer picked ROCK\")\n",
    "\n",
    "    elif computer_random == 2:\n",
    "        computer_choice = 'p'\n",
    "        print(\"Computer picked PAPER\")\n",
    "\n",
    "    elif computer_random == 3:\n",
    "        computer_choice = 's'\n",
    "        print(\"Computer picked SCIZZORS\")\n"
   ]
  },
  {
   "cell_type": "code",
   "execution_count": 70,
   "metadata": {},
   "outputs": [],
   "source": [
    "def player_func():\n",
    "    while True:\n",
    "        player_choice = input(\"Pick either Rock(R),Paper(P) or Scizzors(S)\")\n",
    "\n",
    "        if player_choice.lower() == 'r':\n",
    "            print('Player picked ROCK')\n",
    "            player_choice == 'r'\n",
    "            break\n",
    "\n",
    "        elif player_choice.lower() == 'p':\n",
    "            print(\"Player picked PAPER\")\n",
    "            player_choice == 'p'\n",
    "            break\n",
    "\n",
    "        elif player_choice.lower() == 's':\n",
    "            print(\"Player picked SCIZZORS\")\n",
    "            player_choice == 's'\n",
    "            break\n",
    "\n",
    "        else:\n",
    "            print(\"You didnt pick either 3 of the said option!\")\n",
    "            print(\"Please pick again\")\n",
    "        \n",
    "    player_choice = player_choice.lower()"
   ]
  },
  {
   "cell_type": "code",
   "execution_count": 81,
   "metadata": {},
   "outputs": [],
   "source": [
    "def battle_result():\n",
    "    \n",
    "    player_choice = \"\"\n",
    "    player_func()\n",
    "    cpu_func()\n",
    "    \n",
    "    while True:\n",
    "        if player_choice.lower() == 'r' | computer_choice == 'p':\n",
    "            print(\"Your ROCK lost against CPU's PAPER\")\n",
    "            break\n",
    "            \n",
    "        elif player_choice.lower() == 'r' | computer_choice == 's':\n",
    "            print(\"Your ROCK win against CPU's SCIZZORS\")\n",
    "            break\n",
    "            \n",
    "        elif player_choice.lower() == 'p' | computer_choice == 's':\n",
    "            print(\"Your PAPER lost against CPU's SCIZZORS\")\n",
    "            break\n",
    "            \n",
    "        elif player_choice.lower() == 'p' | computer_choice == 'r':\n",
    "            print(\"Your PAPER win against CPU's ROCK\")\n",
    "            break\n",
    "\n",
    "        elif player_choice.lower() == 's' | computer_choice == 'r':\n",
    "            print(\"Your SCIZZORS lost against CPU's ROCK\")\n",
    "            break\n",
    "            \n",
    "        elif player_choice.lower() == 's' | computer_choice == 'p':\n",
    "            print(\"Your SCIZZORS win against CPU's PAPER\")\n",
    "            break\n",
    "\n",
    "        else:\n",
    "            print(\"It's a draw!\")\n",
    "            break"
   ]
  },
  {
   "cell_type": "code",
   "execution_count": 82,
   "metadata": {},
   "outputs": [
    {
     "name": "stdout",
     "output_type": "stream",
     "text": [
      "Pick either Rock(R),Paper(P) or Scizzors(S)a\n",
      "You didnt pick either 3 of the said option!\n",
      "Please pick again\n",
      "Pick either Rock(R),Paper(P) or Scizzors(S)s\n",
      "Player picked SCIZZORS\n",
      "Computer picked ROCK\n"
     ]
    },
    {
     "ename": "NameError",
     "evalue": "name 'computer_choice' is not defined",
     "output_type": "error",
     "traceback": [
      "\u001b[1;31m---------------------------------------------------------------------------\u001b[0m",
      "\u001b[1;31mNameError\u001b[0m                                 Traceback (most recent call last)",
      "\u001b[1;32m<ipython-input-82-43cadd9711a8>\u001b[0m in \u001b[0;36m<module>\u001b[1;34m\u001b[0m\n\u001b[1;32m----> 1\u001b[1;33m \u001b[0mbattle_result\u001b[0m\u001b[1;33m(\u001b[0m\u001b[1;33m)\u001b[0m\u001b[1;33m\u001b[0m\u001b[1;33m\u001b[0m\u001b[0m\n\u001b[0m",
      "\u001b[1;32m<ipython-input-81-c9edd0852bdb>\u001b[0m in \u001b[0;36mbattle_result\u001b[1;34m()\u001b[0m\n\u001b[0;32m      6\u001b[0m \u001b[1;33m\u001b[0m\u001b[0m\n\u001b[0;32m      7\u001b[0m     \u001b[1;32mwhile\u001b[0m \u001b[1;32mTrue\u001b[0m\u001b[1;33m:\u001b[0m\u001b[1;33m\u001b[0m\u001b[1;33m\u001b[0m\u001b[0m\n\u001b[1;32m----> 8\u001b[1;33m         \u001b[1;32mif\u001b[0m \u001b[0mplayer_choice\u001b[0m\u001b[1;33m.\u001b[0m\u001b[0mlower\u001b[0m\u001b[1;33m(\u001b[0m\u001b[1;33m)\u001b[0m \u001b[1;33m==\u001b[0m \u001b[1;34m'r'\u001b[0m \u001b[1;33m|\u001b[0m \u001b[0mcomputer_choice\u001b[0m \u001b[1;33m==\u001b[0m \u001b[1;34m'p'\u001b[0m\u001b[1;33m:\u001b[0m\u001b[1;33m\u001b[0m\u001b[1;33m\u001b[0m\u001b[0m\n\u001b[0m\u001b[0;32m      9\u001b[0m             \u001b[0mprint\u001b[0m\u001b[1;33m(\u001b[0m\u001b[1;34m\"Your ROCK lost against CPU's PAPER\"\u001b[0m\u001b[1;33m)\u001b[0m\u001b[1;33m\u001b[0m\u001b[1;33m\u001b[0m\u001b[0m\n\u001b[0;32m     10\u001b[0m             \u001b[1;32mbreak\u001b[0m\u001b[1;33m\u001b[0m\u001b[1;33m\u001b[0m\u001b[0m\n",
      "\u001b[1;31mNameError\u001b[0m: name 'computer_choice' is not defined"
     ]
    }
   ],
   "source": [
    "battle_result()"
   ]
  },
  {
   "cell_type": "code",
   "execution_count": 76,
   "metadata": {},
   "outputs": [],
   "source": [
    "def rps():\n",
    "    \n",
    "    print(\"Welcome to ROCK PAPER SCIZZORS!\")\n",
    "    \n",
    "    \n",
    "    game_on = False\n",
    "    if not game_on:\n",
    "        game_on = True\n",
    "        \n",
    "    player_choice = ''\n",
    "    while game_on:\n",
    "        cpu_func()\n",
    "        \n",
    "        battle_result()\n",
    "\n",
    "        rematch = \"\"\n",
    "        rematch = input('Rematch? (y) or (n):')\n",
    "        if rematch.lower() == 'n':\n",
    "            break\n",
    "        else:\n",
    "            game_on = False\n",
    "            \n",
    "    \n",
    "    print('Game Over! Thank you for playing!')"
   ]
  },
  {
   "cell_type": "code",
   "execution_count": 74,
   "metadata": {},
   "outputs": [
    {
     "name": "stdout",
     "output_type": "stream",
     "text": [
      "Welcome to ROCK PAPER SCIZZORS!\n",
      "Computer picked ROCK\n",
      "Pick either Rock(R),Paper(P) or Scizzors(S)s\n",
      "Player picked SCIZZORS\n"
     ]
    },
    {
     "ename": "NameError",
     "evalue": "name 'player_choice' is not defined",
     "output_type": "error",
     "traceback": [
      "\u001b[1;31m---------------------------------------------------------------------------\u001b[0m",
      "\u001b[1;31mNameError\u001b[0m                                 Traceback (most recent call last)",
      "\u001b[1;32m<ipython-input-74-bd123efed7f1>\u001b[0m in \u001b[0;36m<module>\u001b[1;34m\u001b[0m\n\u001b[1;32m----> 1\u001b[1;33m \u001b[0mrps\u001b[0m\u001b[1;33m(\u001b[0m\u001b[1;33m)\u001b[0m\u001b[1;33m\u001b[0m\u001b[1;33m\u001b[0m\u001b[0m\n\u001b[0m",
      "\u001b[1;32m<ipython-input-73-61cb8aaf09e4>\u001b[0m in \u001b[0;36mrps\u001b[1;34m()\u001b[0m\n\u001b[0;32m     14\u001b[0m \u001b[1;33m\u001b[0m\u001b[0m\n\u001b[0;32m     15\u001b[0m         \u001b[0mplayer_func\u001b[0m\u001b[1;33m(\u001b[0m\u001b[1;33m)\u001b[0m\u001b[1;33m\u001b[0m\u001b[1;33m\u001b[0m\u001b[0m\n\u001b[1;32m---> 16\u001b[1;33m         \u001b[0mbattle_result\u001b[0m\u001b[1;33m(\u001b[0m\u001b[1;33m)\u001b[0m\u001b[1;33m\u001b[0m\u001b[1;33m\u001b[0m\u001b[0m\n\u001b[0m\u001b[0;32m     17\u001b[0m \u001b[1;33m\u001b[0m\u001b[0m\n\u001b[0;32m     18\u001b[0m         \u001b[0mrematch\u001b[0m \u001b[1;33m=\u001b[0m \u001b[1;34m\"\"\u001b[0m\u001b[1;33m\u001b[0m\u001b[1;33m\u001b[0m\u001b[0m\n",
      "\u001b[1;32m<ipython-input-28-b4582b369f94>\u001b[0m in \u001b[0;36mbattle_result\u001b[1;34m()\u001b[0m\n\u001b[0;32m      2\u001b[0m \u001b[1;33m\u001b[0m\u001b[0m\n\u001b[0;32m      3\u001b[0m     \u001b[1;32mwhile\u001b[0m \u001b[1;32mTrue\u001b[0m\u001b[1;33m:\u001b[0m\u001b[1;33m\u001b[0m\u001b[1;33m\u001b[0m\u001b[0m\n\u001b[1;32m----> 4\u001b[1;33m         \u001b[1;32mif\u001b[0m \u001b[0mplayer_choice\u001b[0m\u001b[1;33m.\u001b[0m\u001b[0mlower\u001b[0m\u001b[1;33m(\u001b[0m\u001b[1;33m)\u001b[0m \u001b[1;33m==\u001b[0m \u001b[1;34m'r'\u001b[0m \u001b[1;32mand\u001b[0m \u001b[0mcomputer_choice\u001b[0m \u001b[1;33m==\u001b[0m \u001b[1;34m'p'\u001b[0m\u001b[1;33m:\u001b[0m\u001b[1;33m\u001b[0m\u001b[1;33m\u001b[0m\u001b[0m\n\u001b[0m\u001b[0;32m      5\u001b[0m             \u001b[0mprint\u001b[0m\u001b[1;33m(\u001b[0m\u001b[1;34m\"Your ROCK lost against CPU's PAPER\"\u001b[0m\u001b[1;33m)\u001b[0m\u001b[1;33m\u001b[0m\u001b[1;33m\u001b[0m\u001b[0m\n\u001b[0;32m      6\u001b[0m             \u001b[1;32mbreak\u001b[0m\u001b[1;33m\u001b[0m\u001b[1;33m\u001b[0m\u001b[0m\n",
      "\u001b[1;31mNameError\u001b[0m: name 'player_choice' is not defined"
     ]
    }
   ],
   "source": [
    "rps()"
   ]
  },
  {
   "cell_type": "code",
   "execution_count": null,
   "metadata": {},
   "outputs": [],
   "source": []
  }
 ],
 "metadata": {
  "kernelspec": {
   "display_name": "Python 3",
   "language": "python",
   "name": "python3"
  },
  "language_info": {
   "codemirror_mode": {
    "name": "ipython",
    "version": 3
   },
   "file_extension": ".py",
   "mimetype": "text/x-python",
   "name": "python",
   "nbconvert_exporter": "python",
   "pygments_lexer": "ipython3",
   "version": "3.8.5"
  }
 },
 "nbformat": 4,
 "nbformat_minor": 5
}
