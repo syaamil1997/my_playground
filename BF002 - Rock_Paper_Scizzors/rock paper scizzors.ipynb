{
 "cells": [
  {
   "cell_type": "markdown",
   "id": "b5547786",
   "metadata": {},
   "source": [
    "**Rock Paper Scizzors**"
   ]
  },
  {
   "cell_type": "markdown",
   "id": "aff4c7e7",
   "metadata": {},
   "source": [
    "This is attempt of making rock paper scizzors game"
   ]
  },
  {
   "cell_type": "markdown",
   "id": "c8cf95cb",
   "metadata": {},
   "source": [
    "- ask player for username\n",
    "- ask player how many rounds\n",
    "- player pick "
   ]
  }
 ],
 "metadata": {
  "kernelspec": {
   "display_name": "Python 3",
   "language": "python",
   "name": "python3"
  },
  "language_info": {
   "codemirror_mode": {
    "name": "ipython",
    "version": 3
   },
   "file_extension": ".py",
   "mimetype": "text/x-python",
   "name": "python",
   "nbconvert_exporter": "python",
   "pygments_lexer": "ipython3",
   "version": "3.9.2"
  }
 },
 "nbformat": 4,
 "nbformat_minor": 5
}
